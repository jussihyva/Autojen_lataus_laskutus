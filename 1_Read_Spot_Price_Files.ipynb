{
 "cells": [
  {
   "cell_type": "code",
   "execution_count": null,
   "id": "c2433764",
   "metadata": {},
   "outputs": [],
   "source": [
    "reset -f\n"
   ]
  },
  {
   "cell_type": "code",
   "execution_count": null,
   "id": "533ab936",
   "metadata": {},
   "outputs": [],
   "source": []
  },
  {
   "cell_type": "code",
   "execution_count": null,
   "id": "fb112566",
   "metadata": {},
   "outputs": [],
   "source": [
    "#!pip install pyarrow\n"
   ]
  },
  {
   "cell_type": "code",
   "execution_count": null,
   "id": "ea4d3457",
   "metadata": {},
   "outputs": [],
   "source": [
    "# http://www.sahko.tk/\n",
    "# https://energiavirasto.fi/sahkon-hintatilastot\n",
    "# https://energiavirasto.fi/documents/11120570/13026619/Tarjoushinnat/f3187958-9592-b3c9-217c-f35f6a41c60c?t=1701954573719\n"
   ]
  },
  {
   "cell_type": "code",
   "execution_count": null,
   "id": "406844f6",
   "metadata": {},
   "outputs": [],
   "source": [
    "import os\n",
    "import re\n",
    "import pandas as pd\n",
    "pd.options.mode.chained_assignment = None\n",
    "import numpy as np\n",
    "import matplotlib.pyplot as plt\n",
    "from matplotlib.figure import Figure\n"
   ]
  },
  {
   "cell_type": "code",
   "execution_count": null,
   "id": "39f47263",
   "metadata": {},
   "outputs": [],
   "source": [
    "input_folder: str = 'InputData/Spot_Price_Files'\n",
    "preprocessed_folder: str = 'PreprocessedData'\n",
    "input_file_list: list = list()\n",
    "spot_price_file_name_gzip: str = 'Spot_Price_Table.gzip'\n",
    "spot_price_file_name_csv: str = 'Spot_Price_Table.csv'\n",
    "    "
   ]
  },
  {
   "cell_type": "code",
   "execution_count": null,
   "id": "c8ceb7df",
   "metadata": {},
   "outputs": [],
   "source": [
    "subset_dates: dict = {'start_date': '2022-06-15', 'end_date': '2022-12-31'}\n"
   ]
  },
  {
   "cell_type": "code",
   "execution_count": null,
   "id": "68414495",
   "metadata": {},
   "outputs": [],
   "source": [
    "def create_spot_price_dataframe() -> pd.DataFrame:\n",
    "    input_file_list: list = os.listdir(input_folder)\n",
    "\n",
    "    df_list: list = list()\n",
    "    for input_file in input_file_list:\n",
    "        m: re.Match|None = re.match('^.+\\.csv$', input_file)\n",
    "        if m is not None:\n",
    "            file_path: str = os.path.join(input_folder, input_file)\n",
    "            df: pd.DataFrame = pd.read_csv(file_path)\n",
    "            df_list.append(df)\n",
    "    df_spot_price = pd.concat(df_list)\n",
    "    df_spot_price.drop_duplicates(inplace=True)\n",
    "    return df_spot_price\n"
   ]
  },
  {
   "cell_type": "code",
   "execution_count": null,
   "id": "81c7d5e3",
   "metadata": {},
   "outputs": [],
   "source": [
    "def convert_column_types(df: pd.DataFrame):\n",
    "#     df['DateTime'] = pd.to_datetime(df['DateTime'], utc=True).dt.tz_convert('Europe/Helsinki')\n",
    "    df['DateTime'] = pd.to_datetime(df['DateTime'])\n",
    "    df.sort_values(['DateTime'], inplace=True, ascending=True)\n"
   ]
  },
  {
   "cell_type": "code",
   "execution_count": null,
   "id": "54fea3e7",
   "metadata": {},
   "outputs": [],
   "source": [
    "def calculate_alv_0_based_on_date_and_time(df: pd.DataFrame) -> None:\n",
    "    start_date: str = '2022-12-01'\n",
    "    end_date: str = '2023-04-30'\n",
    "    df['alv'] = np.where((df['DateTime'].dt.strftime('%Y-%m-%d') >= start_date) & \\\n",
    "                              (df['DateTime'].dt.strftime('%Y-%m-%d') <= end_date) , 10, 24)\n",
    "    df['Price 0%'] = np.where((df['Hinta'] < 0) , df['Hinta'], df['Hinta'] / (1 + df['alv'] / 100))\n"
   ]
  },
  {
   "cell_type": "code",
   "execution_count": null,
   "id": "5bbb523d",
   "metadata": {},
   "outputs": [],
   "source": [
    "def additional_columns(df: pd.DataFrame):\n",
    "    calculate_alv_0_based_on_date_and_time(df)\n",
    "    df['Price 24%'] = np.where((df['Hinta'] < 0) , df['Price 0%'], df['Price 0%'] * 1.24)\n",
    "    df['Price 10%'] = np.where((df['Hinta'] < 0) , df['Price 0%'], df['Price 0%'] * 1.10)\n"
   ]
  },
  {
   "cell_type": "code",
   "execution_count": null,
   "id": "842140cb",
   "metadata": {},
   "outputs": [],
   "source": [
    "def create_date_subset_records(df: pd.DataFrame) -> list:\n",
    "    date_subset_records: list = list()\n",
    "    date_subset_records.append({'start_hour': '00', 'end_hour': '24', 'subset_name': 'Whole day'})\n",
    "    date_subset_records.append({'start_hour': '00', 'end_hour': '08', 'subset_name': 'Night time'})\n",
    "    date_subset_records.append({'start_hour': '20', 'end_hour': '08', 'subset_name': 'Night time'})\n",
    "    date_subset_records.append({'start_hour': '08', 'end_hour': '24', 'subset_name': 'Day time'})\n",
    "    i: int = -1\n",
    "    for date_subset_record in date_subset_records:\n",
    "        start_hour = date_subset_record['start_hour']\n",
    "        end_hour = date_subset_record['end_hour']\n",
    "        i += 1\n",
    "        if start_hour < end_hour:\n",
    "            df_subset: pd.DataFrame = df.loc[(df['DateTime'].dt.strftime('%H') < date_subset_record['end_hour']) & \\\n",
    "                                            (df['DateTime'].dt.strftime('%H') >= date_subset_record['start_hour'])]\n",
    "        else:\n",
    "            df_subset1: pd.DataFrame = df.loc[(df['DateTime'].dt.strftime('%H') < \"24\") & \\\n",
    "                                            (df['DateTime'].dt.strftime('%H') >= date_subset_record['start_hour'])]\n",
    "            df_subset2: pd.DataFrame = df.loc[(df['DateTime'].dt.strftime('%H') < date_subset_record['end_hour']) & \\\n",
    "                                            (df['DateTime'].dt.strftime('%H') >= \"0\")]\n",
    "            df_subset: pd.DataFrame = pd.concat([df_subset1, df_subset2])\n",
    "        date_subset_record['df_subset'] = df_subset\n",
    "    return date_subset_records\n"
   ]
  },
  {
   "cell_type": "code",
   "execution_count": null,
   "id": "f410f2b1",
   "metadata": {},
   "outputs": [],
   "source": [
    "def print_histogram(date_subset_records: list, min_max_values: tuple) -> None:\n",
    "    xlim_min = min_max_values['min'] + 10\n",
    "    xlim_max = min_max_values['max'] + 10\n",
    "    result = plt.subplots(len(date_subset_records), figsize=(15, 12))\n",
    "    fig: Figure = result[0]\n",
    "    ax: np.ndarray = result[1]\n",
    "    fig.tight_layout(pad=5.0)\n",
    "    i: int = -1\n",
    "    for date_subset_record in date_subset_records:\n",
    "        i += 1\n",
    "        ax[i].set_title('{} price ({} -- {}) histogram'.format(date_subset_record['subset_name'], date_subset_record['start_hour'], date_subset_record['end_hour']))\n",
    "        ax[i].set_xlabel('Price (ALV included)')\n",
    "        ax[i].set_ylabel('Num. of samples')\n",
    "        ax[i].set_xlim(xlim_min, xlim_max)\n",
    "        df_subset: pd.DataFrame = date_subset_record['df_subset']\n",
    "        ax[i].hist(df_subset['Hinta'], bins=130)\n"
   ]
  },
  {
   "cell_type": "code",
   "execution_count": null,
   "id": "ba9b4979",
   "metadata": {},
   "outputs": [],
   "source": [
    "def print_min_average_max_table(date_subset_records: list) -> tuple:\n",
    "    min_max_values: dict = {'min': None, 'max': None}\n",
    "    print('{:25}{:>15}{:>15}{:>15}'.format('Subset of a day', 'Min (c€)', 'Average (c€)', 'Max (c€)'))\n",
    "    i: int = -1\n",
    "    for date_subset_record in date_subset_records:\n",
    "        i += 1\n",
    "        df_subset: pd.DataFrame = date_subset_record['df_subset']\n",
    "        min_spot_price: float = df_subset['Hinta'].describe()[['min', 'mean', 'max']]\n",
    "        subset_name: str = '{} ({} -- {})'.format(date_subset_record['subset_name'], \\\n",
    "                                                  date_subset_record['start_hour'], date_subset_record['end_hour'])\n",
    "        print('{:<25}{:>15.2f}{:>15.2f}{:>15.2f}'.format(subset_name, min_spot_price['min'], \\\n",
    "                                                         min_spot_price['mean'], min_spot_price['max']))\n",
    "        if min_max_values['min'] == None or min_max_values['min'] < min_spot_price['min']:\n",
    "            min_max_values['min'] = min_spot_price['min']\n",
    "        if min_max_values['max'] == None or min_max_values['max'] < min_spot_price['max']:\n",
    "            min_max_values['max'] = min_spot_price['max']\n",
    "    return min_max_values\n"
   ]
  },
  {
   "cell_type": "code",
   "execution_count": null,
   "id": "7ced4c10",
   "metadata": {},
   "outputs": [],
   "source": [
    "def print_min_average_max_table_per_month(date_subset_records: list) -> None:\n",
    "    price_values:dict = dict()\n",
    "    fig: Figure = plt.figure()\n",
    "    print('{:25}{:15}{:>15}{:>15}{:>15}'.format('Subset of a day', 'Month', 'Min (c€)', 'Average (c€)', 'Max (c€)'))\n",
    "    i: int = -1\n",
    "    top: int = 0\n",
    "    for date_subset_record in date_subset_records:\n",
    "        i += 1\n",
    "        subset_name: str = '{} ({} -- {})'.format(date_subset_record['subset_name'], \\\n",
    "                                                  date_subset_record['start_hour'], date_subset_record['end_hour'])\n",
    "        df_subset: pd.DataFrame = date_subset_record['df_subset']\n",
    "        df_subset['YearMonth'] = df_subset['DateTime'].dt.strftime('%Y-%m')\n",
    "        df_subset_group_by: pd.DataFrame = df_subset.groupby('YearMonth')\n",
    "        for group in df_subset_group_by:\n",
    "            min_spot_price: float = group[1]['Hinta'].describe()[['min', 'mean', 'max']]\n",
    "            if subset_name not in price_values:\n",
    "                price_values[subset_name]: dict = dict()\n",
    "            price_values[subset_name][group[0]]: float = min_spot_price['mean']\n",
    "            if min_spot_price['mean'] > top:\n",
    "                top: int = int(min_spot_price['mean'])\n",
    "            print('{:<25}{:<15}{:>15.2f}{:>15.2f}{:>15.2f}'.format(subset_name, group[0], min_spot_price['min'], \\\n",
    "                                                             min_spot_price['mean'], min_spot_price['max']))\n",
    "        print('\\n')\n",
    "    plt.title('Average spot price')\n",
    "    plt.xlabel('Month')\n",
    "    plt.ylabel('Price (c€)')\n",
    "    plt.xticks(rotation=45)\n",
    "    plt.ylim(bottom=0, top=top + 10)\n",
    "    for subset_name in price_values:\n",
    "        lists: dict_items = price_values[subset_name].items()\n",
    "        x, y = zip(*lists)\n",
    "        plt.plot(x, y, label=subset_name)\n",
    "    plt.legend()\n",
    "    plt.show()\n"
   ]
  },
  {
   "cell_type": "code",
   "execution_count": null,
   "id": "b2e1074e",
   "metadata": {},
   "outputs": [],
   "source": [
    "def print_header(df: pd.DataFrame) -> None:\n",
    "    start_time: str = df['DateTime'].iloc[0]\n",
    "    end_time: str = df['DateTime'].iloc[-1]\n",
    "    print('Start time: {}'.format(start_time))\n",
    "    print('End time:   {}'.format(end_time))\n",
    "    print('\\n\\n')\n"
   ]
  },
  {
   "cell_type": "code",
   "execution_count": null,
   "id": "5453e431",
   "metadata": {},
   "outputs": [],
   "source": [
    "def print_spot_price_details(df: pd.DataFrame):\n",
    "    print_header(df)\n",
    "    date_subset_records = create_date_subset_records(df)\n",
    "    print('\\n\\n')\n",
    "    min_max_values = print_min_average_max_table(date_subset_records)\n",
    "    print('\\n\\n')\n",
    "    print_min_average_max_table_per_month(date_subset_records)\n",
    "    print('\\n\\n')\n",
    "    print_histogram(date_subset_records, min_max_values)\n"
   ]
  },
  {
   "cell_type": "code",
   "execution_count": null,
   "id": "439f24c5",
   "metadata": {},
   "outputs": [],
   "source": [
    "def save_preprocessed_spot_price_df(df: pd.DataFrame):\n",
    "    file_path: str = os.path.join(preprocessed_folder, spot_price_file_name_gzip)\n",
    "    df.to_parquet(file_path, compression='gzip')\n",
    "    file_path: str = os.path.join(preprocessed_folder, spot_price_file_name_csv)\n",
    "    df.to_csv(file_path)\n"
   ]
  },
  {
   "cell_type": "code",
   "execution_count": null,
   "id": "d9ded224",
   "metadata": {},
   "outputs": [],
   "source": [
    "def create_spot_price_subset(df: pd.DataFrame, subset_dates: dict) -> pd.DataFrame:\n",
    "    df_spot_price_subset: pd.DataFrame = \\\n",
    "        df.loc[(df['DateTime'].dt.strftime('%Y-%m-%d') >= subset_dates['start_date']) & \\\n",
    "               (df['DateTime'].dt.strftime('%Y-%m-%d') <= subset_dates['end_date'])]\n",
    "    subset_dates['start_date']: str = df_spot_price_subset['DateTime'].iloc[0].strftime('%Y-%m')\n",
    "    subset_dates['end_date']: str = df_spot_price_subset['DateTime'].iloc[-1].strftime('%Y-%m')\n",
    "    return df_spot_price_subset\n"
   ]
  },
  {
   "cell_type": "code",
   "execution_count": null,
   "id": "8876df6f",
   "metadata": {},
   "outputs": [],
   "source": [
    "df_spot_price: pd.DataFrame = create_spot_price_dataframe()\n",
    "convert_column_types(df_spot_price)\n",
    "additional_columns(df_spot_price)\n",
    "save_preprocessed_spot_price_df(df_spot_price)\n",
    "df_spot_price_subset: pd.DataFrame = create_spot_price_subset(df_spot_price, subset_dates)\n",
    "print('Spot price lines: {:d}'.format(df_spot_price.shape[0]))\n",
    "print('Spot price lines: {:d}'.format(df_spot_price_subset.shape[0]))\n"
   ]
  },
  {
   "cell_type": "code",
   "execution_count": null,
   "id": "553950db",
   "metadata": {},
   "outputs": [],
   "source": [
    "df_spot_price.dtypes"
   ]
  },
  {
   "cell_type": "code",
   "execution_count": null,
   "id": "271b0b0a",
   "metadata": {},
   "outputs": [],
   "source": [
    "# print_spot_price_details(df_spot_price)\n",
    "print_spot_price_details(df_spot_price_subset)\n"
   ]
  },
  {
   "cell_type": "code",
   "execution_count": null,
   "id": "b983d39c",
   "metadata": {},
   "outputs": [],
   "source": [
    "print_header(df_spot_price_subset)\n",
    "date_subset_records = create_date_subset_records(df_spot_price_subset)\n",
    "print('\\n\\n')\n",
    "min_max_values = print_min_average_max_table(date_subset_records)\n",
    "print('\\n\\n')\n",
    "print('\\n\\n')\n"
   ]
  },
  {
   "cell_type": "code",
   "execution_count": null,
   "id": "f59220a7",
   "metadata": {},
   "outputs": [],
   "source": [
    "print_header(df_spot_price_subset)\n",
    "print_min_average_max_table_per_month(date_subset_records)\n"
   ]
  },
  {
   "cell_type": "code",
   "execution_count": null,
   "id": "236b72f0",
   "metadata": {},
   "outputs": [],
   "source": [
    "print_header(df_spot_price_subset)\n",
    "print_histogram(date_subset_records, min_max_values)\n"
   ]
  },
  {
   "cell_type": "code",
   "execution_count": null,
   "id": "673172b9",
   "metadata": {},
   "outputs": [],
   "source": [
    "df_spot_price_subset[1820:1840]\n"
   ]
  },
  {
   "cell_type": "code",
   "execution_count": null,
   "id": "b4d7d55b",
   "metadata": {},
   "outputs": [],
   "source": [
    "df_spot_price_subset[4400:4450]\n"
   ]
  },
  {
   "cell_type": "code",
   "execution_count": null,
   "id": "618016d6",
   "metadata": {},
   "outputs": [],
   "source": [
    "df_spot_price[df_spot_price['Hinta'] <= -3.00]\n"
   ]
  },
  {
   "cell_type": "code",
   "execution_count": null,
   "id": "aaa3b17e",
   "metadata": {},
   "outputs": [],
   "source": [
    "df_spot_price[df_spot_price['Hinta'] <= -3.00]\n"
   ]
  },
  {
   "cell_type": "code",
   "execution_count": null,
   "id": "6a8a5d02",
   "metadata": {},
   "outputs": [],
   "source": [
    "df_spot_price.tail()"
   ]
  },
  {
   "cell_type": "code",
   "execution_count": null,
   "id": "2ed7aee7",
   "metadata": {},
   "outputs": [],
   "source": []
  },
  {
   "cell_type": "code",
   "execution_count": null,
   "id": "eb47d79e",
   "metadata": {},
   "outputs": [],
   "source": []
  }
 ],
 "metadata": {
  "kernelspec": {
   "display_name": "Python 3 (ipykernel)",
   "language": "python",
   "name": "python3"
  },
  "language_info": {
   "codemirror_mode": {
    "name": "ipython",
    "version": 3
   },
   "file_extension": ".py",
   "mimetype": "text/x-python",
   "name": "python",
   "nbconvert_exporter": "python",
   "pygments_lexer": "ipython3",
   "version": "3.10.12"
  }
 },
 "nbformat": 4,
 "nbformat_minor": 5
}
