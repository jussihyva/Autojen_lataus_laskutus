{
 "cells": [
  {
   "cell_type": "code",
   "execution_count": null,
   "id": "726def66",
   "metadata": {},
   "outputs": [],
   "source": [
    "reset -f\n"
   ]
  },
  {
   "cell_type": "code",
   "execution_count": null,
   "id": "7361cb54",
   "metadata": {},
   "outputs": [],
   "source": [
    "import os\n",
    "import pandas as pd\n",
    "import numpy as np\n",
    "import json\n",
    "from datetime import datetime\n",
    "from Utils import print_dst\n"
   ]
  },
  {
   "cell_type": "code",
   "execution_count": null,
   "id": "2f9e736a",
   "metadata": {},
   "outputs": [],
   "source": [
    "input_folder: str = 'InputData'\n",
    "preprocessed_input_folder: str = 'PreprocessedData'\n",
    "spot_price_file_name_gzip: str = 'Spot_Price_Table.gzip'\n",
    "electricity_prices_file_name: str = \"Electricity_Prices.json\"\n",
    "electricity_prices_file_name_gzip: str = 'Electricity_Price_Table.gzip'\n",
    "electricity_prices_file_name_csv: str = 'Electricity_Price_Table.csv'\n"
   ]
  },
  {
   "cell_type": "code",
   "execution_count": null,
   "id": "43cf146c",
   "metadata": {},
   "outputs": [],
   "source": [
    "file_path: str = os.path.join(preprocessed_input_folder, spot_price_file_name_gzip)\n",
    "df_spot_price: pd.DataFrame = pd.read_parquet(file_path)\n",
    "file_path: str = os.path.join(input_folder, electricity_prices_file_name)\n",
    "file = open(file_path, \"r\")\n",
    "df_electricity_prices: pd.DataFrame = pd.read_json(file, lines=True)\n",
    "file.close()\n"
   ]
  },
  {
   "cell_type": "code",
   "execution_count": null,
   "id": "5c16319f",
   "metadata": {},
   "outputs": [],
   "source": [
    "# df_electricity_prices.sort_values([\"start_date\"]).head(10)\n"
   ]
  },
  {
   "cell_type": "code",
   "execution_count": null,
   "id": "5f7f44ef",
   "metadata": {},
   "outputs": [],
   "source": [
    "df_electricity_prices.dtypes\n"
   ]
  },
  {
   "cell_type": "code",
   "execution_count": null,
   "id": "12f92a68",
   "metadata": {},
   "outputs": [],
   "source": [
    "df_spot_price.head()\n"
   ]
  },
  {
   "cell_type": "code",
   "execution_count": null,
   "id": "59018fb6",
   "metadata": {},
   "outputs": [],
   "source": [
    "df_electricity_prices[\"start_date\"] = pd.to_datetime(df_electricity_prices[\"start_date\"])\n",
    "df_electricity_prices[\"end_date\"] = pd.to_datetime(df_electricity_prices[\"end_date\"])\n"
   ]
  },
  {
   "cell_type": "code",
   "execution_count": null,
   "id": "011185f1",
   "metadata": {},
   "outputs": [],
   "source": [
    "columns: list = [\"Siirto\", \"Unit\", \"start_date\", \"end_date\", \"alv\"]\n",
    "df_siirto: pd.DataFrame = df_electricity_prices[df_electricity_prices[\"Siirto\"].notna()][columns]\n",
    "columns: list = [\"Unit\", \"start_date\", \"end_date\", \"alv\", \"Marginaali\"]\n",
    "df_marginaali: pd.DataFrame = df_electricity_prices[df_electricity_prices[\"Marginaali\"].notna()][columns]\n",
    "columns: list = [\"Unit\", \"start_date\", \"end_date\", \"alv\", \"Energia\"]\n",
    "df_energia: pd.DataFrame = df_electricity_prices[df_electricity_prices[\"Energia\"].notna()][columns]\n",
    "columns: list = [\"Unit\", \"start_date\", \"end_date\", \"alv\", \"Vero\"]\n",
    "df_vero: pd.DataFrame = df_electricity_prices[df_electricity_prices[\"Vero\"].notna()][columns]\n"
   ]
  },
  {
   "cell_type": "code",
   "execution_count": null,
   "id": "c5c25130",
   "metadata": {},
   "outputs": [],
   "source": []
  },
  {
   "cell_type": "code",
   "execution_count": null,
   "id": "e13e2c91",
   "metadata": {},
   "outputs": [],
   "source": [
    "df_siirto['start_date'] = df_siirto[\"start_date\"].map(lambda start_date: print_dst(start_date))\n",
    "df_siirto['end_date'] = df_siirto[\"end_date\"].map(lambda end_date: print_dst(end_date))\n",
    "df_siirto\n"
   ]
  },
  {
   "cell_type": "code",
   "execution_count": null,
   "id": "88402d1c",
   "metadata": {},
   "outputs": [],
   "source": [
    "df_marginaali['start_date'] = df_marginaali[\"start_date\"].map(lambda start_date: print_dst(start_date))\n",
    "df_marginaali['end_date'] = df_marginaali[\"end_date\"].map(lambda end_date: print_dst(end_date))\n",
    "df_marginaali\n"
   ]
  },
  {
   "cell_type": "code",
   "execution_count": null,
   "id": "aef49bf7",
   "metadata": {},
   "outputs": [],
   "source": [
    "df_energia['start_date'] = df_energia[\"start_date\"].map(lambda start_date: print_dst(start_date))\n",
    "df_energia['end_date'] = df_energia[\"end_date\"].map(lambda end_date: print_dst(end_date))\n",
    "df_energia\n"
   ]
  },
  {
   "cell_type": "code",
   "execution_count": null,
   "id": "aec16e52",
   "metadata": {},
   "outputs": [],
   "source": [
    "df_vero['start_date'] = df_vero[\"start_date\"].map(lambda start_date: print_dst(start_date))\n",
    "df_vero['end_date'] = df_vero[\"end_date\"].map(lambda end_date: print_dst(end_date))\n",
    "df_vero\n"
   ]
  },
  {
   "cell_type": "code",
   "execution_count": null,
   "id": "976a97e8",
   "metadata": {},
   "outputs": [],
   "source": [
    "def initialize_electricity_hourly_price():\n",
    "    start_date: str = \"2022-01-01T00:00\"\n",
    "    end_date: str = datetime.now().strftime(\"%Y-%m-%dT23:00\")\n",
    "    start_date = print_dst(start_date)\n",
    "    end_date = print_dst(end_date)\n",
    "    date_hourly_range: list = pd.date_range(start_date, end_date, freq=\"H\")\n",
    "    df: pd.DataFrame = pd.DataFrame(date_hourly_range, columns=[\"DateTime\"])\n",
    "    print(df.head())\n",
    "    return df\n"
   ]
  },
  {
   "cell_type": "code",
   "execution_count": null,
   "id": "976a16b7",
   "metadata": {},
   "outputs": [],
   "source": [
    "def set_transmission_price(row):\n",
    "    df: pd.DataFrame = df_siirto.loc[((df_siirto[\"end_date\"] + \\\n",
    "            np.timedelta64(1,'D') > row[\"DateTime\"]) | \\\n",
    "            (df_siirto[\"end_date\"].isna())) & \\\n",
    "            ((df_siirto[\"start_date\"] <= row[\"DateTime\"]) | \\\n",
    "            (df_siirto[\"start_date\"].isna()))]\n",
    "    if df.shape[0] > 0:\n",
    "        transmission_price = df.iloc[0][\"Siirto\"]\n",
    "    else:\n",
    "        print(row[\"DateTime\"])\n",
    "    return transmission_price\n"
   ]
  },
  {
   "cell_type": "code",
   "execution_count": null,
   "id": "dc3888e9",
   "metadata": {},
   "outputs": [],
   "source": [
    "def add_transmission_price(df):\n",
    "    df[\"Siirto\"] = df.apply(lambda row: set_transmission_price(row), axis=1)\n"
   ]
  },
  {
   "cell_type": "code",
   "execution_count": null,
   "id": "205bd183",
   "metadata": {},
   "outputs": [],
   "source": [
    "def set_marginal_price(row):\n",
    "    df: pd.DataFrame = df_marginaali.loc[((df_marginaali[\"end_date\"] + \\\n",
    "            np.timedelta64(1,'D') > row[\"DateTime\"]) | \\\n",
    "            (df_marginaali[\"end_date\"].isna())) & \\\n",
    "            ((df_marginaali[\"start_date\"] <= row[\"DateTime\"]) | \\\n",
    "            (df_marginaali[\"start_date\"].isna()))]\n",
    "    if df.shape[0] > 0:\n",
    "        marginal_price = df.iloc[0][\"Marginaali\"]\n",
    "    else:\n",
    "        print(row[\"DateTime\"])\n",
    "    return marginal_price\n"
   ]
  },
  {
   "cell_type": "code",
   "execution_count": null,
   "id": "3459cc14",
   "metadata": {},
   "outputs": [],
   "source": [
    "def add_marginal_price(df):\n",
    "    df[\"Marginaali\"] = df.apply(lambda row: set_marginal_price(row), axis=1)\n"
   ]
  },
  {
   "cell_type": "code",
   "execution_count": null,
   "id": "5f391e8b",
   "metadata": {},
   "outputs": [],
   "source": [
    "def set_energy_price(row):\n",
    "    df: pd.DataFrame = df_energia.loc[((df_energia[\"end_date\"] + \\\n",
    "            np.timedelta64(1,'D') > row[\"DateTime\"]) | \\\n",
    "            (df_energia[\"end_date\"].isna())) & \\\n",
    "            ((df_energia[\"start_date\"] <= row[\"DateTime\"]) | \\\n",
    "            (df_energia[\"start_date\"].isna()))]\n",
    "    if df.shape[0] > 0:\n",
    "        if df.iloc[0][\"Energia\"] == \"spot\":\n",
    "            df_energy_price: pd.Series = \\\n",
    "                df_spot_price[df_spot_price[\"DateTime\"] == row[\"DateTime\"]]\n",
    "            if df_energy_price.shape[0] > 0:\n",
    "                energy_price: float = df_energy_price.iloc[0][\"Price 0%\"]\n",
    "            else:\n",
    "                energy_price: None = None\n",
    "        else:\n",
    "            energy_price: float = df.iloc[0][\"Energia\"]\n",
    "    else:\n",
    "        print(row[\"DateTime\"])\n",
    "    return energy_price\n"
   ]
  },
  {
   "cell_type": "code",
   "execution_count": null,
   "id": "8235c2a4",
   "metadata": {},
   "outputs": [],
   "source": [
    "def add_energy_price(df):\n",
    "    df[\"Energia\"] = df.apply(lambda row: set_energy_price(row), axis=1)\n"
   ]
  },
  {
   "cell_type": "code",
   "execution_count": null,
   "id": "44d3cb69",
   "metadata": {},
   "outputs": [],
   "source": [
    "def set_tax_price(row):\n",
    "    df: pd.DataFrame = df_vero.loc[\n",
    "            ((df_vero[\"start_date\"] <= row[\"DateTime\"]) | \\\n",
    "            (df_vero[\"start_date\"].isna()) & \\\n",
    "            ((df_vero[\"end_date\"] + \\\n",
    "            np.timedelta64(1,'D') > row[\"DateTime\"]) | \\\n",
    "            (df_vero[\"end_date\"].isna())))]\n",
    "    if df.shape[0] > 0:\n",
    "        tax_price = df.iloc[0][\"Vero\"]\n",
    "    else:\n",
    "        print(row[\"DateTime\"])\n",
    "    return tax_price\n"
   ]
  },
  {
   "cell_type": "code",
   "execution_count": null,
   "id": "fab8a2ab",
   "metadata": {},
   "outputs": [],
   "source": [
    "def add_tax_price(df):\n",
    "    df[\"Vero\"] = df.apply(lambda row: set_tax_price(row), axis=1)\n"
   ]
  },
  {
   "cell_type": "code",
   "execution_count": null,
   "id": "ba1af46c",
   "metadata": {},
   "outputs": [],
   "source": [
    "df_electricity_hourly_price: pd.DataFrame = initialize_electricity_hourly_price()\n"
   ]
  },
  {
   "cell_type": "code",
   "execution_count": null,
   "id": "34a6cd2f",
   "metadata": {},
   "outputs": [],
   "source": [
    "add_energy_price(df_electricity_hourly_price)\n"
   ]
  },
  {
   "cell_type": "code",
   "execution_count": null,
   "id": "b9198256",
   "metadata": {},
   "outputs": [],
   "source": [
    "add_transmission_price(df_electricity_hourly_price)\n"
   ]
  },
  {
   "cell_type": "code",
   "execution_count": null,
   "id": "4a55327e",
   "metadata": {},
   "outputs": [],
   "source": [
    "add_marginal_price(df_electricity_hourly_price)\n"
   ]
  },
  {
   "cell_type": "code",
   "execution_count": null,
   "id": "fc2906b5",
   "metadata": {},
   "outputs": [],
   "source": [
    "add_tax_price(df_electricity_hourly_price)\n"
   ]
  },
  {
   "cell_type": "code",
   "execution_count": null,
   "id": "6d3697c5",
   "metadata": {},
   "outputs": [],
   "source": [
    "def add_special_alv(energia, siirto, marginaali, vero):\n",
    "    ALV1: int = 24\n",
    "    ALV2: int = 10\n",
    "    Summa_ALV = (siirto + marginaali + vero) * (1 + ALV1 / 100)\n",
    "    Summa_ALV += (energia) * (1 + ALV2 / 100)\n",
    "    return Summa_ALV\n"
   ]
  },
  {
   "cell_type": "code",
   "execution_count": null,
   "id": "204fe607",
   "metadata": {},
   "outputs": [],
   "source": [
    "def add_alv(energia, siirto, marginaali, vero):\n",
    "    ALV: int = 24\n",
    "    Summa_ALV = (siirto + marginaali + vero) * (1 + ALV / 100)\n",
    "    Summa_ALV += (energia) * (1 + ALV / 100)\n",
    "    return Summa_ALV\n"
   ]
  },
  {
   "cell_type": "code",
   "execution_count": null,
   "id": "7ab5f87d",
   "metadata": {},
   "outputs": [],
   "source": [
    "def add_total_price_with_alv_24(df):\n",
    "    start_date: str = '2022-12-01'\n",
    "    end_date: str = '2023-04-30'\n",
    "    df[\"ALV%\"] = np.where((df['DateTime'].dt.strftime('%Y-%m-%d') >= start_date) & \\\n",
    "                              (df['DateTime'].dt.strftime('%Y-%m-%d') <= end_date) , \"24/10\", \"24\")\n",
    "    df[\"Summa+ALV\"] = np.where(df[\"ALV%\"] == \"24\",\n",
    "                               add_alv(df[\"Energia\"], df[\"Siirto\"], df[\"Marginaali\"], df[\"Vero\"]),\n",
    "                               add_special_alv(df[\"Energia\"], df[\"Siirto\"], df[\"Marginaali\"], df[\"Vero\"]))\n"
   ]
  },
  {
   "cell_type": "code",
   "execution_count": null,
   "id": "f8d7fbba",
   "metadata": {},
   "outputs": [],
   "source": [
    "df_electricity_hourly_price.head()\n"
   ]
  },
  {
   "cell_type": "code",
   "execution_count": null,
   "id": "e91bffea",
   "metadata": {},
   "outputs": [],
   "source": [
    "add_total_price_with_alv_24(df_electricity_hourly_price)\n"
   ]
  },
  {
   "cell_type": "code",
   "execution_count": null,
   "id": "52b799f1",
   "metadata": {},
   "outputs": [],
   "source": [
    "df_electricity_hourly_price.head()\n"
   ]
  },
  {
   "cell_type": "code",
   "execution_count": null,
   "id": "813a1e81",
   "metadata": {},
   "outputs": [],
   "source": [
    "def save_preprocessed_electricity_price_df(df: pd.DataFrame):\n",
    "    file_path: str = os.path.join(preprocessed_input_folder, electricity_prices_file_name_gzip)\n",
    "    df.to_parquet(file_path, compression='gzip')\n",
    "    file_path: str = os.path.join(preprocessed_input_folder, electricity_prices_file_name_csv)\n",
    "    df.to_csv(file_path)\n"
   ]
  },
  {
   "cell_type": "code",
   "execution_count": null,
   "id": "bc2ca0c4",
   "metadata": {},
   "outputs": [],
   "source": [
    "save_preprocessed_electricity_price_df(df_electricity_hourly_price)\n"
   ]
  },
  {
   "cell_type": "code",
   "execution_count": null,
   "id": "66522156",
   "metadata": {},
   "outputs": [],
   "source": [
    "pd.options.display.float_format = '{:,.2f}'.format\n",
    "df_electricity_hourly_price.tail(200)\n"
   ]
  },
  {
   "cell_type": "code",
   "execution_count": null,
   "id": "fe94d763",
   "metadata": {},
   "outputs": [],
   "source": [
    "df_electricity_hourly_price.shape\n"
   ]
  },
  {
   "cell_type": "code",
   "execution_count": null,
   "id": "acbd0ddf",
   "metadata": {},
   "outputs": [],
   "source": [
    "df_electricity_hourly_price.iloc[6540:6580]\n"
   ]
  },
  {
   "cell_type": "code",
   "execution_count": null,
   "id": "30225120",
   "metadata": {},
   "outputs": [],
   "source": [
    "df_electricity_hourly_price.iloc[7200:7260]\n"
   ]
  },
  {
   "cell_type": "code",
   "execution_count": null,
   "id": "8d6dcd12",
   "metadata": {},
   "outputs": [],
   "source": [
    "df_electricity_hourly_price.iloc[8750:8775]\n"
   ]
  },
  {
   "cell_type": "code",
   "execution_count": null,
   "id": "b1374051",
   "metadata": {},
   "outputs": [],
   "source": []
  },
  {
   "cell_type": "code",
   "execution_count": null,
   "id": "924a6ab4",
   "metadata": {},
   "outputs": [],
   "source": []
  }
 ],
 "metadata": {
  "kernelspec": {
   "display_name": "Python 3 (ipykernel)",
   "language": "python",
   "name": "python3"
  },
  "language_info": {
   "codemirror_mode": {
    "name": "ipython",
    "version": 3
   },
   "file_extension": ".py",
   "mimetype": "text/x-python",
   "name": "python",
   "nbconvert_exporter": "python",
   "pygments_lexer": "ipython3",
   "version": "3.10.12"
  }
 },
 "nbformat": 4,
 "nbformat_minor": 5
}
