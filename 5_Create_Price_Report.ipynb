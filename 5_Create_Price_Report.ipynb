{
 "cells": [
  {
   "cell_type": "code",
   "execution_count": null,
   "id": "a31c59be",
   "metadata": {},
   "outputs": [],
   "source": [
    "reset -f\n"
   ]
  },
  {
   "cell_type": "code",
   "execution_count": null,
   "id": "c6a7cfc6",
   "metadata": {},
   "outputs": [],
   "source": [
    "import os\n",
    "import pandas as pd\n",
    "import numpy as np\n",
    "import json\n",
    "import re\n",
    "from Utils import print_dst\n"
   ]
  },
  {
   "cell_type": "code",
   "execution_count": null,
   "id": "54c82e57",
   "metadata": {},
   "outputs": [],
   "source": []
  },
  {
   "cell_type": "code",
   "execution_count": null,
   "id": "b0da188f",
   "metadata": {},
   "outputs": [],
   "source": [
    "# start_date: str = \"2022-06-14\"\n",
    "# end_date: str = \"2022-12-31\"\n",
    "start_date: str = \"2023-01-01\"\n",
    "end_date: str = \"2023-12-31\"\n",
    "# start_date = pd.to_datetime(start_date, utc=True).tz_convert('Europe/Helsinki')\n",
    "# end_date = pd.to_datetime(end_date, utc=True).tz_convert('Europe/Helsinki')\n",
    "start_date = print_dst(start_date)\n",
    "end_date = print_dst(end_date)\n"
   ]
  },
  {
   "cell_type": "code",
   "execution_count": null,
   "id": "71b0da13",
   "metadata": {},
   "outputs": [],
   "source": [
    "input_folder: str = 'InputData'\n",
    "preprocessed_input_folder: str = 'PreprocessedData'\n",
    "defa_file_name_gzip: str = 'Defa_Table.gzip'\n",
    "electricity_price_file_name_gzip: str = 'Electricity_Price_Table.gzip'\n",
    "chargeing_point_owner_changes_file_name: str = \"Chargeing_point_owner_changes.json\"\n",
    "chargeing_point_name_file_name: str = \"Chargeing_point_name.json\"\n",
    "mittarilukemat_file_name: str = \"Mittarilukemat.json\"\n",
    "mittalukemat_2023_01_01_file_name: str = \"Mittarilukemat_2023_01_01.csv\"\n"
   ]
  },
  {
   "cell_type": "code",
   "execution_count": null,
   "id": "d6bb62f6",
   "metadata": {},
   "outputs": [],
   "source": [
    "file_path: str = os.path.join(preprocessed_input_folder, defa_file_name_gzip)\n",
    "df_defa: pd.DataFrame = pd.read_parquet(file_path)\n",
    "file_path: str = os.path.join(preprocessed_input_folder, electricity_price_file_name_gzip)\n",
    "df_electricity_price: pd.DataFrame = pd.read_parquet(file_path)\n",
    "file_path: str = os.path.join(input_folder, chargeing_point_owner_changes_file_name)\n",
    "file = open(file_path, \"r\")\n",
    "df_chargeing_point_owner_changes: pd.DataFrame = pd.read_json(file, lines=True)\n",
    "file.close()\n",
    "file_path: str = os.path.join(input_folder, chargeing_point_name_file_name)\n",
    "file = open(file_path, \"r\")\n",
    "df_chargeing_point_name: pd.DataFrame = pd.read_json(file, lines=True)\n",
    "file.close()\n",
    "file_path: str = os.path.join(input_folder, mittarilukemat_file_name)\n",
    "file = open(file_path, \"r\")\n",
    "df_mittarilukemat: pd.DataFrame = pd.read_json(file, lines=True)\n",
    "file.close()\n",
    "df_mittarilukemat[\"DateTime\"] = pd.to_datetime(df_mittarilukemat[\"DateTime\"])\n"
   ]
  },
  {
   "cell_type": "code",
   "execution_count": null,
   "id": "8050d038",
   "metadata": {},
   "outputs": [],
   "source": [
    "df_mittarilukemat: pd.DataFrame = pd.merge(df_mittarilukemat, df_chargeing_point_name)\n",
    "df_mittarilukemat.head(20)\n"
   ]
  },
  {
   "cell_type": "code",
   "execution_count": null,
   "id": "0c9432af",
   "metadata": {},
   "outputs": [],
   "source": [
    "df_chargeing_point_name.head()\n"
   ]
  },
  {
   "cell_type": "code",
   "execution_count": null,
   "id": "cb8a2015",
   "metadata": {},
   "outputs": [],
   "source": [
    "df_chargeing_point_owner_changes: pd.DataFrame = pd.merge(df_chargeing_point_owner_changes, df_chargeing_point_name)\n",
    "df_chargeing_point_owner_changes[\"start_date\"] = pd.to_datetime(df_chargeing_point_owner_changes[\"start_date\"])\n",
    "df_chargeing_point_owner_changes[\"end_date\"] = pd.to_datetime(df_chargeing_point_owner_changes[\"end_date\"])\n"
   ]
  },
  {
   "cell_type": "code",
   "execution_count": null,
   "id": "919a6176",
   "metadata": {},
   "outputs": [],
   "source": [
    "df_chargeing_point_owner_changes.dtypes\n"
   ]
  },
  {
   "cell_type": "code",
   "execution_count": null,
   "id": "3b818924",
   "metadata": {},
   "outputs": [],
   "source": [
    "df_chargeing_point_owner_changes.head(40)\n"
   ]
  },
  {
   "cell_type": "code",
   "execution_count": null,
   "id": "f73bb7d8",
   "metadata": {},
   "outputs": [],
   "source": [
    "# df_defa: pd.DataFrame = pd.merge(df_defa, df_chargeing_point_name, left_on=[\"id\", \"connector_id\"],\n",
    "#                                  right_on=[\"id\", \"connectorId\"])\n",
    "df_defa: pd.DataFrame = pd.merge(df_defa, df_chargeing_point_name, left_on=[\"id\", \"connectorId\"],\n",
    "                                 right_on=[\"id\", \"connectorId\"])\n",
    "df_defa.head()\n"
   ]
  },
  {
   "cell_type": "code",
   "execution_count": null,
   "id": "e721eda3",
   "metadata": {},
   "outputs": [],
   "source": [
    "df_defa.dtypes\n"
   ]
  },
  {
   "cell_type": "code",
   "execution_count": null,
   "id": "d74102da",
   "metadata": {},
   "outputs": [],
   "source": [
    "df_electricity_price.head()\n"
   ]
  },
  {
   "cell_type": "code",
   "execution_count": null,
   "id": "de439330",
   "metadata": {},
   "outputs": [],
   "source": [
    "df_electricity_price.dtypes\n"
   ]
  },
  {
   "cell_type": "code",
   "execution_count": null,
   "id": "86164f70",
   "metadata": {},
   "outputs": [],
   "source": [
    "def add_chargeing_time_column(df: pd.DataFrame, row: pd.Series, start_date_and_hour, end_date_and_hour):\n",
    "    if start_date_and_hour == end_date_and_hour:\n",
    "        df['chargeing_time'] = (row['end_time'] - row['start_time']).total_seconds()\n",
    "    else:\n",
    "        df.loc[df['DateTime'] == start_date_and_hour, 'chargeing_time'] = \\\n",
    "                                            ((start_date_and_hour - row['start_time']).total_seconds() + 3600)\n",
    "        df.loc[df['DateTime'] == end_date_and_hour, 'chargeing_time'] = \\\n",
    "                                            (row['end_time'] - end_date_and_hour).total_seconds()\n"
   ]
  },
  {
   "cell_type": "code",
   "execution_count": null,
   "id": "1e47e627",
   "metadata": {},
   "outputs": [],
   "source": [
    "def set_owner(start_date: str, id: str, connector_id: str) -> str:\n",
    "    df: pd.DataFrame = \\\n",
    "        df_chargeing_point_owner_changes[(df_chargeing_point_owner_changes[\"id\"] == id) &\n",
    "                    (df_chargeing_point_owner_changes[\"connectorId\"] == connector_id) &\n",
    "                    ((df_chargeing_point_owner_changes[\"start_date\"] <= start_date) |\n",
    "                    df_chargeing_point_owner_changes[\"start_date\"].isna()) &\n",
    "                    ((df_chargeing_point_owner_changes[\"end_date\"] >= start_date) |\n",
    "                    df_chargeing_point_owner_changes[\"end_date\"].isna()) ]\n",
    "    if df.shape[0] > 0:\n",
    "        if type(df.iloc[0][\"start_date\"]) == pd._libs.tslibs.nattype.NaTType:\n",
    "            time_stamp = df.iloc[0][\"end_date\"]\n",
    "            owner_prefix: str = \"E_\"\n",
    "        else:\n",
    "            owner_prefix: str = \"S_\"\n",
    "            time_stamp = df.iloc[0][\"start_date\"]\n",
    "        owner: str = \"{}{}\".format(owner_prefix, time_stamp.strftime(\"%Y-%m-%d\"))\n",
    "    else:\n",
    "        owner: str = \"--\"\n",
    "    return owner\n"
   ]
  },
  {
   "cell_type": "code",
   "execution_count": null,
   "id": "f73fdf87",
   "metadata": {},
   "outputs": [],
   "source": [
    "def create_list_of_chargeing_times(row: pd.Series, df_electricity_price: pd.DataFrame) -> pd.DataFrame:\n",
    "    start_date_and_hour: str = pd.Timestamp(row['start_time'].strftime('%Y-%m-%d %H:00:00'), tz=\"Europe/Helsinki\")\n",
    "#     print(row['start_time'])\n",
    "#     print(start_date_and_hour)\n",
    "    start_date: str = pd.Timestamp(row['start_time'].strftime('%Y-%m-%d'))\n",
    "    end_date_and_hour: str = pd.Timestamp(row['end_time'].strftime('%Y-%m-%d %H:00:00'), tz=\"Europe/Helsinki\")\n",
    "    chargeing_time: int = (row['end_time'] - row['start_time']).total_seconds()\n",
    "    if chargeing_time > 0:\n",
    "        energy_per_second = row['energy'] / chargeing_time\n",
    "    else:\n",
    "        energy_per_second = 0\n",
    "    chargeing_time_list = pd.date_range(start_date_and_hour, end_date_and_hour, freq='H')\n",
    "    mask: pd.Series = df_electricity_price['DateTime'].isin(chargeing_time_list)\n",
    "    df_price_report: pd.DataFrame = df_electricity_price[mask]\n",
    "    df_price_report['id'] = row['id']\n",
    "    df_price_report['connector_id'] = row['connectorId']\n",
    "    df_price_report['Autopaikka'] = row['Autopaikka']\n",
    "    df_price_report['chargeing_time'] = 3600\n",
    "    df_price_report['start_time'] = row['start_time']\n",
    "    df_price_report['end_time'] = row['end_time']\n",
    "    add_chargeing_time_column(df_price_report, row, start_date_and_hour, end_date_and_hour)\n",
    "    df_price_report['kulutettu energia'] = df_price_report['chargeing_time'] * energy_per_second\n",
    "    df_price_report['Lataus aika (min.)'] = np.round(df_price_report['chargeing_time'] / 60, 2)\n",
    "    df_price_report['Kokonais summa + ALV'] = df_price_report['kulutettu energia'] * df_price_report['Summa+ALV']\n",
    "    df_price_report[\"owner\"] = set_owner(start_date, row['id'], row['connectorId'])\n",
    "#     df_price_report.drop(['Price 0%', 'Price 10%', 'Price 24%'], axis=1, inplace=True)\n",
    "    return df_price_report\n"
   ]
  },
  {
   "cell_type": "code",
   "execution_count": null,
   "id": "1f157fa2",
   "metadata": {},
   "outputs": [],
   "source": [
    "df_list = df_defa.apply(lambda row: create_list_of_chargeing_times(row, df_electricity_price), axis=1)\n",
    "df_total_cost = df_list[0]\n",
    "for df in df_list[1:]:\n",
    "    df_total_cost = pd.concat([df_total_cost, df])\n",
    "df_total_cost.reset_index(drop=True, inplace=True)\n"
   ]
  },
  {
   "cell_type": "code",
   "execution_count": null,
   "id": "252998e5",
   "metadata": {},
   "outputs": [],
   "source": [
    "df_cost: pd.DataFrame = df_total_cost[(df_total_cost[\"DateTime\"] >= pd.to_datetime(start_date)) & \\\n",
    "            (df_total_cost[\"DateTime\"] < (pd.to_datetime(end_date) + np.timedelta64(1,\"D\")))]\n"
   ]
  },
  {
   "cell_type": "code",
   "execution_count": null,
   "id": "b3f036bd",
   "metadata": {},
   "outputs": [],
   "source": [
    "df_cost.head()\n"
   ]
  },
  {
   "cell_type": "code",
   "execution_count": null,
   "id": "2c120358",
   "metadata": {},
   "outputs": [],
   "source": [
    "df_cost.tail()\n"
   ]
  },
  {
   "cell_type": "code",
   "execution_count": null,
   "id": "1a17faa8",
   "metadata": {},
   "outputs": [],
   "source": [
    "df_cost.shape\n"
   ]
  },
  {
   "cell_type": "code",
   "execution_count": null,
   "id": "857aabc4",
   "metadata": {},
   "outputs": [],
   "source": [
    "# df_cost_groupby = df_cost.groupby(['id', 'connector_id', \\\n",
    "#                                    \"owner\", \"Autopaikka\"])\n",
    "df_cost_groupby = df_cost.groupby([\"Autopaikka\", \"owner\"])\n"
   ]
  },
  {
   "cell_type": "code",
   "execution_count": null,
   "id": "20b72d8c",
   "metadata": {},
   "outputs": [],
   "source": [
    "chargeing_points:list = list(df_cost_groupby.groups.keys())\n"
   ]
  },
  {
   "cell_type": "code",
   "execution_count": null,
   "id": "8d355786",
   "metadata": {},
   "outputs": [],
   "source": [
    "df_bill_2022_06_15__2023_12_31: pd.DataFrame = \\\n",
    "                    pd.DataFrame(columns=[\"Autopaikka\", \"Omistaja\", \\\n",
    "                          \"Kulutus (kWh)\", \"Summa (€)\"])\n"
   ]
  },
  {
   "cell_type": "code",
   "execution_count": null,
   "id": "23b64916",
   "metadata": {},
   "outputs": [],
   "source": [
    "i: int = -1\n",
    "for group in df_cost_groupby:\n",
    "    i += 1\n",
    "    chargeing_point_name: str = group[0]\n",
    "    df: pd.DataFrame = group[1]\n",
    "    total_price: float = \\\n",
    "        df['Kokonais summa + ALV'].sum() / 100\n",
    "    the_consumed_electricity: float = df['kulutettu energia'].sum()\n",
    "    length: int = len(df_bill_2022_06_15__2023_12_31.index)\n",
    "    df_bill_2022_06_15__2023_12_31.loc[length] = \\\n",
    "            {\"Autopaikka\": chargeing_point_name[0], \\\n",
    "             \"Omistaja\": chargeing_point_name[1],\n",
    "             \"Summa (€)\": total_price,\n",
    "             \"Kulutus (kWh)\": the_consumed_electricity}\n"
   ]
  },
  {
   "cell_type": "code",
   "execution_count": null,
   "id": "af359564",
   "metadata": {},
   "outputs": [],
   "source": [
    "def create_sort_id(row):\n",
    "    m = re.match(\"^\\D+(\\d+)$\", row[\"Autopaikka\"])\n",
    "    sort_id: int = int(m.group(1))\n",
    "    return sort_id\n",
    "\n"
   ]
  },
  {
   "cell_type": "code",
   "execution_count": null,
   "id": "7dd9b025",
   "metadata": {
    "scrolled": true
   },
   "outputs": [],
   "source": [
    "df_bill_2022_06_15__2023_12_31[\"sort_id\"] = df_bill_2022_06_15__2023_12_31.apply(lambda row: create_sort_id(row), axis=1)\n",
    "df_bill_2022_06_15__2023_12_31.sort_values([\"sort_id\"], inplace=True)\n",
    "df_bill_2022_06_15__2023_12_31.drop([\"sort_id\"], inplace=True, axis=1)\n",
    "df_bill_2022_06_15__2023_12_31[\"Kulutus (kWh)\"] = df_bill_2022_06_15__2023_12_31[\"Kulutus (kWh)\"].round(2)\n",
    "df_bill_2022_06_15__2023_12_31[\"Summa (€)\"] = df_bill_2022_06_15__2023_12_31[\"Summa (€)\"].round(2)\n",
    "df_bill_2022_06_15__2023_12_31[\"Hinta/kWh(€)\"] = (df_bill_2022_06_15__2023_12_31[\"Summa (€)\"] / \\\n",
    "                                                  df_bill_2022_06_15__2023_12_31[\"Kulutus (kWh)\"]).round(2)\n",
    "print(\"Laskutus ajanjaksolta 15.06.2022 -- 31.12.2022 (Sisältäen aloitus ja lopetus päivät)\\n\")\n",
    "print(df_bill_2022_06_15__2023_12_31[df_bill_2022_06_15__2023_12_31[\"Summa (€)\"] > 0.0].to_string(index=False))\n",
    "print(\"\\nHuom: {}{}\".format(\"Ennen aloituspäivää aloitettu lataus sisältää ainoastaan sen osan ajasta,\",\n",
    "                          \" joka on aloituspäivän puolella.\"))\n",
    "print(\"      {}{}\".format(\"Lopetuspäivän jälkeen lopetettu lataus sisältää ainoastaan sen osan ajasta,\",\n",
    "                          \"joka on lopetuspäivän puolella.\"))\n",
    "print(\"\\n      {}\\n      {}\".format(\n",
    "                   \"Laskutus perustuu tunti kohtaiseen sähkön hintaan. Jokaiselle tunnille on laskettu hinta,\",\n",
    "                   \"joka koostuu sen hetkisestä Siirto, Vero, Marginaali ja Spot/Sopimus hintojen summasta kerrottuna ALV% (24%).\"))\n",
    "print(\"\")\n",
    "print(\"      E_<päiväys> --> {}\".format(\"tarkoittaa omistajaa, jonka omistus on päättynyt kyseisenä päivänä.\"))\n",
    "print(\"      S_<päiväys> --> {}\".format(\"tarkoittaa omistajaa, jonka omistus on alkanut kyseisenä päivänä.\"))\n",
    "\n"
   ]
  },
  {
   "cell_type": "code",
   "execution_count": null,
   "id": "d7f03755",
   "metadata": {},
   "outputs": [],
   "source": [
    "def create_file_path_for_chargeing_data(chargeing_point_name: tuple) -> str:\n",
    "    if chargeing_point_name[1] == \"--\":\n",
    "        file_path: str = \"Output/{}.xlsx\".format(chargeing_point_name[0])\n",
    "    else:\n",
    "        file_path: str = \"Output/{}_{}.xlsx\".format(chargeing_point_name[0], chargeing_point_name[1])\n",
    "    return file_path\n"
   ]
  },
  {
   "cell_type": "code",
   "execution_count": null,
   "id": "16649113",
   "metadata": {},
   "outputs": [],
   "source": [
    "chargeing_point_name = ('AK15', \"--\")\n",
    "\n",
    "for group in df_cost_groupby:\n",
    "    if chargeing_point_name == group[0]:\n",
    "        df: pd.DataFrame = group[1]\n",
    "        print(\"{}-{}\".format(chargeing_point_name[0], chargeing_point_name[1]))\n",
    "        file_path: str = create_file_path_for_chargeing_data(chargeing_point_name)\n",
    "        with pd.option_context('display.max_rows', None, 'display.max_columns', None):\n",
    "            display(df[['DateTime', 'Energia', \"Siirto\", \"Marginaali\", \"Vero\", \\\n",
    "                        \"kulutettu energia\", 'Kokonais summa + ALV', 'Lataus aika (min.)']])\n",
    "            df[['DateTime', 'Energia', \"Siirto\", \"Marginaali\", \"Vero\", \\\n",
    "                        \"kulutettu energia\", 'Kokonais summa + ALV', 'Lataus aika (min.)']].to_excel(file_path)\n",
    "        break"
   ]
  },
  {
   "cell_type": "code",
   "execution_count": null,
   "id": "cc5f3acc",
   "metadata": {},
   "outputs": [],
   "source": [
    "file_path: str = os.path.join(preprocessed_input_folder, mittalukemat_2023_01_01_file_name)\n",
    "file = open(file_path, \"r\")\n",
    "df_mittalukemat_2023_01_01: pd.DataFrame = pd.read_csv(file)\n",
    "file.close()\n"
   ]
  },
  {
   "cell_type": "code",
   "execution_count": null,
   "id": "7cd964d6",
   "metadata": {},
   "outputs": [],
   "source": [
    "df_mittalukemat_2023_01_01.drop(\"Unnamed: 0\", inplace=True, axis=1)\n",
    "df_mittalukemat_2023_01_01.head(40)\n"
   ]
  },
  {
   "cell_type": "code",
   "execution_count": null,
   "id": "be916cb6",
   "metadata": {},
   "outputs": [],
   "source": [
    "df_bill_2022_06_15__2023_12_31[\"Jo laskutettu (kWh)\"] = 0.0\n"
   ]
  },
  {
   "cell_type": "code",
   "execution_count": null,
   "id": "5336b540",
   "metadata": {},
   "outputs": [],
   "source": [
    "for group in df_bill_2022_06_15__2023_12_31.groupby([\"Autopaikka\"]):\n",
    "    autopaikka: str = group[0]\n",
    "    df: pd.DataFrame = group[1]\n",
    "    kulutus: float = df[\"Kulutus (kWh)\"].sum()\n",
    "    df_mittalukemat_2023_01_01.loc[df_mittalukemat_2023_01_01[\"Autopaikka\"] == autopaikka, \"Jo laskutettu (kWh)\"] = kulutus\n"
   ]
  },
  {
   "cell_type": "code",
   "execution_count": null,
   "id": "33e6f925",
   "metadata": {},
   "outputs": [],
   "source": [
    "print(\"Laskutus jossa kaikki ennen 15.06.2022 tehdyt lataukset\\n\")\n",
    "df_mittalukemat_2023_01_01[\"Kulutus (kWh)\"] = df_mittalukemat_2023_01_01[\"Mittarilukema\"] - \\\n",
    "                                                df_mittalukemat_2023_01_01[\"Jo laskutettu (kWh)\"]\n",
    "df_mittalukemat_2023_01_01.drop([\"DateTime\", \"Mittarilukema\", \"Jo laskutettu (kWh)\"], axis=1, inplace=True)\n",
    "df_mittalukemat_2023_01_01[\"Summa (€)\"] = df_mittalukemat_2023_01_01[\"Kulutus (kWh)\"] * 10.8686 / 100\n",
    "df_mittalukemat_2023_01_01[\"Summa (€)\"] = df_mittalukemat_2023_01_01[\"Summa (€)\"].round(2)\n",
    "df_mittalukemat_2023_01_01[\"Kulutus (kWh)\"] = df_mittalukemat_2023_01_01[\"Kulutus (kWh)\"].round(2)\n",
    "print(df_mittalukemat_2023_01_01[df_mittalukemat_2023_01_01[\"Summa (€)\"] > 0.1].to_string(index=False))\n",
    "print(\"\\nHuom: {}\\n{}\".format(\"Tämä laskutus on erillisenä koska ennen kesäkuuta 2022 tapahtuneista latauksista\", \\\n",
    "                        \"      ei ole saatavilla tarkempia lataus tietoja Defan cloudcharge järjestelmästä.\"))\n",
    "print(\"\\n      {}{}\\n      {}\".format(\"Laskutus tapahtuu kiinteällä 10.87 c€/kWh hinnalla,\", \\\n",
    "                            \" joka perustuu voimassa olleeseen kiinteään sopimukseen.\",\n",
    "                           \"(toki siirto, vero ja ALV% mukana).\"))\n"
   ]
  },
  {
   "cell_type": "code",
   "execution_count": null,
   "id": "b6830b23",
   "metadata": {},
   "outputs": [],
   "source": [
    "description: str = \"\"\"\n",
    "Laskutus on toteutettu siten että jokaisella tunnilla on ajanmukainen Siirto, Vero, Marginaali ja Spot/Sopimus hinta.\n",
    "kWh hinta on laskettu jokaiselle tunnille summaamalla kaikki hinnat yhteen ja lisätty ALV%, joka on taloyhtiölle 24%.\n",
    "\n",
    "Laskutus ennen 21.10.2022 perustuu kiinteisiin sopimus hintoihin kulloisenkin ajankohdan mukaan.\n",
    "\n",
    "21.10.2022 ja siitä eteenpäin taloyhtiössä on ollut käytössä spot hinta. Siitä lähtien jokaisella tunnilla on\n",
    "sopimushinnan sijasta spot hinta, joka on otettu http://www.sahko.tk/ sivustolta.\n",
    "\n",
    "Joulukuussa 2022 (12/2022) spot hinnan (ainoastaan spot hinnan) ALV10 on huomioitu. Multa osin ALV24 on käytetty.\n",
    "\n",
    "Defan cloudcharge järjestelmästä ei saada tarkkaa tuntikohtaista kulutus tietoa.\n",
    "Siitä johtuen laskutus perustuu seuraviin asioihin:\n",
    "   1. Lataus aika alkaa siitä kun latauspistoke kytketään autoon ja päättyy kun lataus pistoke otetaan irti.\n",
    "   2. Latausaikana ladattu sähkö (kWh) laskutetaan kyseisten tuntien mukaisella sähkön hinnalla.\n",
    "\n",
    "Esimerkki:\n",
    "    - Latauspistoke kytektty autoon klo 17:45\n",
    "    - Latauspistoke poistettu autosta klo 20:15\n",
    "    - Sähkön kulutus kyseisenä 2 tunnin ja 30 minuutin (=150 min) aikana on 9 kWh\n",
    "    Yllä mainitut kolme tietoa saadaan Defan cloudcharge järjestelmästä\n",
    "\n",
    "    Koska tarkkaa ajankohtaa lataukselle ei tiedetä lasketaan sähkön kulutus jokaiselle minuutille.\n",
    "    Esimerkin tapauksessa sähköä on kulutettu (9 kwh / 150 min) 0.06 kwh/min.\n",
    "    Tällöin tuntikohtainen sähkön kulutus on:\n",
    "        17:00 --> 15 min * 0.06 kWh/min = 0.9 kWh\n",
    "        18:00 --> 60 min * 0.06 kWh/min = 3.6 kWh\n",
    "        19:00 --> 60 min * 0.06 kWh/min = 3.6 kWh\n",
    "        20:00 --> 15 min * 0.06 kWh/min = 0.9 kWh\n",
    "\n",
    "    Lopuksi jokaista tuntia laskutetaan kyseisen tunnin Spot hinnan mukaan\n",
    "    (toki siirto, vero, marginaali ja ALV24 mukana).\n",
    "    Huom: Joulukuussa 2022 spothinnan (vain spot hinnan) ALV on ollut 10%, muina aikaoina 24%.\n",
    "\"\"\"\n",
    "\n",
    "print(description)\n"
   ]
  },
  {
   "cell_type": "code",
   "execution_count": null,
   "id": "d76a57c3",
   "metadata": {},
   "outputs": [],
   "source": []
  },
  {
   "cell_type": "code",
   "execution_count": null,
   "id": "9b636b2d",
   "metadata": {},
   "outputs": [],
   "source": []
  }
 ],
 "metadata": {
  "kernelspec": {
   "display_name": "Python 3 (ipykernel)",
   "language": "python",
   "name": "python3"
  },
  "language_info": {
   "codemirror_mode": {
    "name": "ipython",
    "version": 3
   },
   "file_extension": ".py",
   "mimetype": "text/x-python",
   "name": "python",
   "nbconvert_exporter": "python",
   "pygments_lexer": "ipython3",
   "version": "3.10.12"
  }
 },
 "nbformat": 4,
 "nbformat_minor": 5
}
