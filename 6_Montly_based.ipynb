{
 "cells": [
  {
   "cell_type": "code",
   "execution_count": null,
   "id": "804158a5",
   "metadata": {},
   "outputs": [],
   "source": [
    "reset -f\n"
   ]
  },
  {
   "cell_type": "code",
   "execution_count": null,
   "id": "fdebb11e",
   "metadata": {},
   "outputs": [],
   "source": [
    "import os\n",
    "import pandas as pd\n",
    "import pytz\n"
   ]
  },
  {
   "cell_type": "code",
   "execution_count": null,
   "id": "80bb3357",
   "metadata": {},
   "outputs": [],
   "source": [
    "start_date: str = \"2022-06-15\"\n",
    "end_date: str = \"2022-10-01\"\n",
    "defined_timezone = pytz.timezone(\"Europe/Helsinki\")\n",
    "start_date = pd.to_datetime(start_date).tz_localize(defined_timezone)\n",
    "end_date = pd.to_datetime(end_date).tz_localize(defined_timezone)\n",
    "start_date = pd.to_datetime(start_date).tz_convert(pytz.utc)\n",
    "end_date = pd.to_datetime(end_date).tz_convert(pytz.utc)\n",
    "\n"
   ]
  },
  {
   "cell_type": "code",
   "execution_count": null,
   "id": "ac20a68e",
   "metadata": {},
   "outputs": [],
   "source": [
    "input_folder: str = 'InputData'\n",
    "preprocessed_input_folder: str = 'PreprocessedData'\n",
    "defa_file_name_gzip: str = 'Defa_Table.gzip'\n",
    "chargeing_point_name_file_name: str = \"Chargeing_point_name.json\"\n"
   ]
  },
  {
   "cell_type": "code",
   "execution_count": null,
   "id": "427c49cb",
   "metadata": {},
   "outputs": [],
   "source": []
  },
  {
   "cell_type": "code",
   "execution_count": null,
   "id": "bb910f65",
   "metadata": {},
   "outputs": [],
   "source": []
  },
  {
   "cell_type": "code",
   "execution_count": null,
   "id": "0ec060f0",
   "metadata": {},
   "outputs": [],
   "source": [
    "file_path: str = os.path.join(preprocessed_input_folder, defa_file_name_gzip)\n",
    "df_defa: pd.DataFrame = pd.read_parquet(file_path)\n",
    "file_path: str = os.path.join(input_folder, chargeing_point_name_file_name)\n",
    "file = open(file_path, \"r\")\n",
    "df_chargeing_point_name: pd.DataFrame = pd.read_json(file, lines=True)\n",
    "file.close()\n"
   ]
  },
  {
   "cell_type": "code",
   "execution_count": null,
   "id": "deaedb31",
   "metadata": {},
   "outputs": [],
   "source": [
    "df_defa: pd.DataFrame = pd.merge(df_defa, df_chargeing_point_name, left_on=[\"id\", \"connectorId\"],\n",
    "                                 right_on=[\"id\", \"connectorId\"])\n",
    "df_defa.head()\n"
   ]
  },
  {
   "cell_type": "code",
   "execution_count": null,
   "id": "ffad9136",
   "metadata": {},
   "outputs": [],
   "source": [
    "def getFirstEventGroupedByAutopaikka(df, cutoff_time):\n",
    "    mask = df['start_time'] > cutoff_time\n",
    "    filtered_df = df_defa[mask]\n",
    "    filtered_df\n",
    "    df_grouppedByAutopaikka = filtered_df.groupby([\"Autopaikka\"])\n",
    "    return df_grouppedByAutopaikka\n"
   ]
  },
  {
   "cell_type": "code",
   "execution_count": null,
   "id": "50164f78",
   "metadata": {},
   "outputs": [],
   "source": [
    "def getLatestEventGroupedByAutopaikka(df, cutoff_time):\n",
    "    mask = df['end_time'] < cutoff_time\n",
    "    filtered_df = df_defa[mask]\n",
    "    filtered_df\n",
    "    df_grouppedByAutopaikka = filtered_df.groupby([\"Autopaikka\"])\n",
    "    return df_grouppedByAutopaikka\n"
   ]
  },
  {
   "cell_type": "code",
   "execution_count": null,
   "id": "87288516",
   "metadata": {},
   "outputs": [],
   "source": [
    "cutoff_time = end_date\n",
    "df_grouppedByAutopaikka = getLatestEventGroupedByAutopaikka(df_defa, cutoff_time)\n"
   ]
  },
  {
   "cell_type": "code",
   "execution_count": null,
   "id": "3e96088a",
   "metadata": {},
   "outputs": [],
   "source": [
    "print(df_grouppedByAutopaikka[[\"meterStopKwh\", \"end_time\"]].last())\n"
   ]
  },
  {
   "cell_type": "code",
   "execution_count": null,
   "id": "2e4a643b",
   "metadata": {},
   "outputs": [],
   "source": [
    "cutoff_time = start_date\n",
    "df_grouppedByAutopaikka = getFirstEventGroupedByAutopaikka(df_defa, cutoff_time)\n"
   ]
  },
  {
   "cell_type": "code",
   "execution_count": null,
   "id": "2a346d62",
   "metadata": {},
   "outputs": [],
   "source": [
    "print(df_grouppedByAutopaikka[[\"meterStartKwh\", \"start_time\"]].first())\n"
   ]
  },
  {
   "cell_type": "code",
   "execution_count": null,
   "id": "35328f28",
   "metadata": {},
   "outputs": [],
   "source": []
  },
  {
   "cell_type": "code",
   "execution_count": null,
   "id": "baf53850",
   "metadata": {},
   "outputs": [],
   "source": [
    "df_grouppedByAutopaikka.get_group(\"AP7\")\n"
   ]
  },
  {
   "cell_type": "code",
   "execution_count": null,
   "id": "54418ed7",
   "metadata": {},
   "outputs": [],
   "source": []
  }
 ],
 "metadata": {
  "kernelspec": {
   "display_name": "Python 3 (ipykernel)",
   "language": "python",
   "name": "python3"
  },
  "language_info": {
   "codemirror_mode": {
    "name": "ipython",
    "version": 3
   },
   "file_extension": ".py",
   "mimetype": "text/x-python",
   "name": "python",
   "nbconvert_exporter": "python",
   "pygments_lexer": "ipython3",
   "version": "3.10.12"
  }
 },
 "nbformat": 4,
 "nbformat_minor": 5
}
