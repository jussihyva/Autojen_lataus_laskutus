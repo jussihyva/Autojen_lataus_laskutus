{
 "cells": [
  {
   "cell_type": "code",
   "execution_count": null,
   "id": "b3b4bcf2",
   "metadata": {},
   "outputs": [],
   "source": [
    "reset -f\n"
   ]
  },
  {
   "cell_type": "code",
   "execution_count": null,
   "id": "679a48ba",
   "metadata": {},
   "outputs": [],
   "source": [
    "import pandas as pd\n",
    "import numpy as np\n",
    "import os\n",
    "import json\n"
   ]
  },
  {
   "cell_type": "code",
   "execution_count": null,
   "id": "af944c08",
   "metadata": {},
   "outputs": [],
   "source": [
    "start_date: str = \"2022-06-15\"\n",
    "end_date: str = \"2022-12-31\"\n"
   ]
  },
  {
   "cell_type": "code",
   "execution_count": null,
   "id": "c7dfc8ca",
   "metadata": {},
   "outputs": [],
   "source": [
    "input_folder: str = 'InputData'\n",
    "meter_values_2022_10_01_file_name: str = 'Mittarilukemat.json'\n",
    "preprocessed_input_folder: str = 'PreprocessedData'\n",
    "defa_file_name_gzip: str = 'Defa_Table.gzip'\n",
    "chargeing_point_name_file_name: str = \"Chargeing_point_name.json\"\n",
    "spot_price_file_name_gzip: str = 'Electricity_Price_Table.gzip'\n",
    "mittalukemat_2023_01_01_file_name: str = \"Mittarilukemat_2023_01_01.csv\"\n"
   ]
  },
  {
   "cell_type": "code",
   "execution_count": null,
   "id": "7500b226",
   "metadata": {},
   "outputs": [],
   "source": [
    "file_path: str = os.path.join(input_folder, meter_values_2022_10_01_file_name)\n",
    "file = open(file_path, \"r\")\n",
    "meter_values_2022_10_01: pd.DataFrame = pd.read_json(file, lines=True)\n",
    "file.close()\n",
    "file_path: str = os.path.join(input_folder, chargeing_point_name_file_name)\n",
    "file = open(file_path, \"r\")\n",
    "df_chargeing_point_name: pd.DataFrame = pd.read_json(file, lines=True)\n",
    "file.close()\n",
    "file_path: str = os.path.join(preprocessed_input_folder, spot_price_file_name_gzip)\n",
    "df_spot_price: pd.DataFrame = pd.read_parquet(file_path)\n"
   ]
  },
  {
   "cell_type": "code",
   "execution_count": null,
   "id": "c2063b7e",
   "metadata": {},
   "outputs": [],
   "source": [
    "meter_values_2022_10_01.head(30)"
   ]
  },
  {
   "cell_type": "code",
   "execution_count": null,
   "id": "43fbfb0b",
   "metadata": {},
   "outputs": [],
   "source": [
    "df_chargeing_point_name.head()\n"
   ]
  },
  {
   "cell_type": "code",
   "execution_count": null,
   "id": "318f8606",
   "metadata": {},
   "outputs": [],
   "source": [
    "file_path: str = os.path.join(preprocessed_input_folder, defa_file_name_gzip)\n",
    "df_defa: pd.DataFrame = pd.read_parquet(file_path)\n"
   ]
  },
  {
   "cell_type": "code",
   "execution_count": null,
   "id": "4acf1684",
   "metadata": {},
   "outputs": [],
   "source": [
    "df_defa: pd.DataFrame = pd.merge(df_defa, df_chargeing_point_name, left_on=[\"id\", \"connector_id\"], \n",
    "                                 right_on=[\"id\", \"connectorId\"])\n",
    "df_defa.head()\n"
   ]
  },
  {
   "cell_type": "code",
   "execution_count": null,
   "id": "35ee5b59",
   "metadata": {},
   "outputs": [],
   "source": [
    "def add_chargeing_time_column(df: pd.DataFrame, row: pd.Series, start_date_and_hour, end_date_and_hour):\n",
    "    if start_date_and_hour == end_date_and_hour:\n",
    "        df['chargeing_time'] = (row['end_time'] - row['start_time']).total_seconds()\n",
    "    else:\n",
    "        df.loc[df['DateTime'] == start_date_and_hour, 'chargeing_time'] = \\\n",
    "                                            ((start_date_and_hour - row['start_time']).total_seconds() + 3600)\n",
    "        df.loc[df['DateTime'] == end_date_and_hour, 'chargeing_time'] = \\\n",
    "                                            (row['end_time'] - end_date_and_hour).total_seconds()\n"
   ]
  },
  {
   "cell_type": "code",
   "execution_count": null,
   "id": "3f3dac12",
   "metadata": {},
   "outputs": [],
   "source": [
    "def create_list_of_chargeing_times(row: pd.Series, df_spot_price: pd.DataFrame) -> pd.DataFrame:\n",
    "    start_date_and_hour: str = pd.Timestamp(row['start_time'].strftime('%Y-%m-%d %H:00:00'))\n",
    "    start_date: str = pd.Timestamp(row['start_time'].strftime('%Y-%m-%d'))\n",
    "    end_date_and_hour: str = pd.Timestamp(row['end_time'].strftime('%Y-%m-%d %H:00:00'))\n",
    "    chargeing_time: int = (row['end_time'] - row['start_time']).total_seconds()\n",
    "    if chargeing_time > 0:\n",
    "        energy_per_second = row['energy'] / chargeing_time\n",
    "    else:\n",
    "        energy_per_second = 0\n",
    "    chargeing_time_list = pd.date_range(start_date_and_hour, end_date_and_hour, freq='H')\n",
    "    mask: pd.Series = df_spot_price['DateTime'].isin(chargeing_time_list)\n",
    "    df_price_report: pd.DataFrame = df_spot_price[mask]\n",
    "    df_price_report['id'] = row['id']\n",
    "#     df_price_report['connector_id'] = row['connectorId']\n",
    "    df_price_report['connector_id'] = row['connectorId']\n",
    "    df_price_report['Autopaikka'] = row['Autopaikka']\n",
    "    df_price_report['chargeing_time'] = 3600\n",
    "    df_price_report['start_time'] = row['start_time']\n",
    "    df_price_report['end_time'] = row['end_time']\n",
    "    add_chargeing_time_column(df_price_report, row, start_date_and_hour, end_date_and_hour)\n",
    "    df_price_report['kulutettu energia'] = df_price_report['chargeing_time'] * energy_per_second\n",
    "    df_price_report['Lataus aika (min.)'] = np.round(df_price_report['chargeing_time'] / 60, 2)\n",
    "    df_price_report['Kokonais summa + ALV'] = df_price_report['kulutettu energia'] * df_price_report['Summa+ALV']\n",
    "    return df_price_report\n"
   ]
  },
  {
   "cell_type": "code",
   "execution_count": null,
   "id": "b5d23c44",
   "metadata": {},
   "outputs": [],
   "source": [
    "df_list = df_defa.apply(lambda row: create_list_of_chargeing_times(row, df_spot_price), axis=1)\n",
    "df_total_cost = df_list[0]\n",
    "for df in df_list[1:]:\n",
    "    df_total_cost = pd.concat([df_total_cost, df])\n",
    "df_total_cost.reset_index(drop=True, inplace=True)\n"
   ]
  },
  {
   "cell_type": "code",
   "execution_count": null,
   "id": "1e9daa61",
   "metadata": {},
   "outputs": [],
   "source": [
    "df_cost: pd.DataFrame = df_total_cost[(df_total_cost[\"DateTime\"] >= pd.to_datetime(start_date)) & \\\n",
    "            (df_total_cost[\"DateTime\"] < (pd.to_datetime(end_date) + np.timedelta64(1,\"D\")))]\n"
   ]
  },
  {
   "cell_type": "code",
   "execution_count": null,
   "id": "ecb51bc7",
   "metadata": {},
   "outputs": [],
   "source": [
    "df_cost.head()\n"
   ]
  },
  {
   "cell_type": "code",
   "execution_count": null,
   "id": "9a2de25e",
   "metadata": {},
   "outputs": [],
   "source": [
    "df_cost_groupby = df_cost.groupby([\"Autopaikka\"])\n"
   ]
  },
  {
   "cell_type": "code",
   "execution_count": null,
   "id": "93732f4d",
   "metadata": {},
   "outputs": [],
   "source": [
    "print('{:>12} {:>18}'.format \\\n",
    "      ('Autopaikka', 'Kulutus (kWh)'))\n",
    "i: int = -1\n",
    "list_of_consumed_electricity: list = list()\n",
    "for group in df_cost_groupby:\n",
    "    i += 1\n",
    "    chargeing_point_name: str = group[0]\n",
    "    df: pd.DataFrame = group[1]\n",
    "    the_consumed_electricity: float = df['kulutettu energia'].sum()\n",
    "    record: dict = {\"Autopaikka\": chargeing_point_name, \\\n",
    "                    \"Kulutus\": the_consumed_electricity}\n",
    "    list_of_consumed_electricity.append(record)\n",
    "    print('{:>12} {:>18.2f}'.format(\n",
    "        chargeing_point_name, \\\n",
    "        the_consumed_electricity))\n",
    "\n",
    "df_consumed_electricity: pd.DataFrame = \\\n",
    "            pd.DataFrame.from_records(list_of_consumed_electricity)\n",
    "\n"
   ]
  },
  {
   "cell_type": "code",
   "execution_count": null,
   "id": "3780ee0d",
   "metadata": {},
   "outputs": [],
   "source": [
    "# df_consumed_electricity.head()\n"
   ]
  },
  {
   "cell_type": "code",
   "execution_count": null,
   "id": "978e564b",
   "metadata": {},
   "outputs": [],
   "source": [
    "meter_values_2023_01_01: pd.DataFrame = \\\n",
    "        pd.merge(meter_values_2022_10_01, \\\n",
    "                 df_consumed_electricity, how=\"left\")\n",
    "meter_values_2023_01_01.replace(np.nan, 0, inplace=True)\n",
    "meter_values_2023_01_01[\"Mittarilukema\"] = \\\n",
    "        meter_values_2023_01_01[\"Mittarilukema\"] + \\\n",
    "        meter_values_2023_01_01[\"Kulutus\"]\n",
    "meter_values_2023_01_01[\"DateTime\"] = pd.to_datetime(\"2023-01-01\")\n",
    "meter_values_2023_01_01.drop([\"Kulutus\"], axis=1, inplace=True)\n",
    "\n"
   ]
  },
  {
   "cell_type": "code",
   "execution_count": null,
   "id": "45c36503",
   "metadata": {},
   "outputs": [],
   "source": [
    "print(meter_values_2023_01_01)\n"
   ]
  },
  {
   "cell_type": "code",
   "execution_count": null,
   "id": "c2bf4cf9",
   "metadata": {},
   "outputs": [],
   "source": [
    "file_path: str = os.path.join(preprocessed_input_folder, mittalukemat_2023_01_01_file_name)\n",
    "meter_values_2023_01_01.to_csv(file_path)\n"
   ]
  },
  {
   "cell_type": "code",
   "execution_count": null,
   "id": "3982cae2",
   "metadata": {},
   "outputs": [],
   "source": []
  },
  {
   "cell_type": "code",
   "execution_count": null,
   "id": "e99498d0",
   "metadata": {},
   "outputs": [],
   "source": []
  }
 ],
 "metadata": {
  "kernelspec": {
   "display_name": "Python 3 (ipykernel)",
   "language": "python",
   "name": "python3"
  },
  "language_info": {
   "codemirror_mode": {
    "name": "ipython",
    "version": 3
   },
   "file_extension": ".py",
   "mimetype": "text/x-python",
   "name": "python",
   "nbconvert_exporter": "python",
   "pygments_lexer": "ipython3",
   "version": "3.10.12"
  }
 },
 "nbformat": 4,
 "nbformat_minor": 5
}
