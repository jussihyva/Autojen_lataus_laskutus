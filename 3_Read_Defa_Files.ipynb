{
 "cells": [
  {
   "cell_type": "code",
   "execution_count": null,
   "id": "7057e670",
   "metadata": {},
   "outputs": [],
   "source": [
    "reset -f\n"
   ]
  },
  {
   "cell_type": "code",
   "execution_count": null,
   "id": "60d9bcd2",
   "metadata": {},
   "outputs": [],
   "source": [
    "# https://prod.cloudcharge.se/adminpages/login.html\n"
   ]
  },
  {
   "cell_type": "code",
   "execution_count": null,
   "id": "c0914141",
   "metadata": {},
   "outputs": [],
   "source": [
    "import os\n",
    "import re\n",
    "import pandas as pd\n"
   ]
  },
  {
   "cell_type": "code",
   "execution_count": null,
   "id": "8b052bb5",
   "metadata": {},
   "outputs": [],
   "source": [
    "input_folder: str = 'InputData/Defa_Files'\n",
    "preprocessed_folder: str = 'PreprocessedData'\n",
    "input_file_list: list = list()\n",
    "defa_file_name_gzip: str = 'Defa_Table.gzip'\n",
    "defa_file_name_csv: str = 'Defa_Table.csv'\n"
   ]
  },
  {
   "cell_type": "code",
   "execution_count": null,
   "id": "abc21d5a",
   "metadata": {},
   "outputs": [],
   "source": [
    "def create_defa_dataframe() -> pd.DataFrame:\n",
    "    input_file_list: list = os.listdir(input_folder)\n",
    "\n",
    "    df_list: list = list()\n",
    "    for input_file in input_file_list:\n",
    "        m: re.Match|None = re.match('^.+\\.csv$', input_file)\n",
    "        if m is not None:\n",
    "            file_path: str = os.path.join(input_folder, input_file)\n",
    "            df: pd.DataFrame = pd.read_csv(file_path)\n",
    "            df_list.append(df)\n",
    "    df_defa = pd.concat(df_list)\n",
    "    print('Charge events before removing duplicates: {}'.format(df_defa.shape[0]))\n",
    "    df_defa.drop_duplicates(subset=['id', 'transaction_id', 'connector_id', 'start_time'], inplace=True)\n",
    "    print('Charge events (duplicates are removed)  : {}'.format(df_defa.shape[0]))\n",
    "    return df_defa\n"
   ]
  },
  {
   "cell_type": "code",
   "execution_count": null,
   "id": "a790da05",
   "metadata": {},
   "outputs": [],
   "source": [
    "def create_defa_dataframe_json() -> pd.DataFrame:\n",
    "    input_file_list: list = os.listdir(input_folder)\n",
    "\n",
    "    df_list: list = list()\n",
    "    for input_file in input_file_list:\n",
    "        m: re.Match|None = re.match('^.+\\.json$', input_file)\n",
    "        if m is not None:\n",
    "            file_path: str = os.path.join(input_folder, input_file)\n",
    "            df: pd.DataFrame = pd.read_json(file_path, lines=False)\n",
    "            s_list: list = df[\"defaoy-heikunantie9esp\"].to_list()\n",
    "            df: pd.DataFrame = pd.DataFrame(s_list)\n",
    "            print(df.columns)\n",
    "            df_list.append(df)\n",
    "    df_defa = pd.concat(df_list)\n",
    "    print('Charge events before removing duplicates: {}'.format(df_defa.shape[0]))\n",
    "    df_defa.drop_duplicates(subset=['id', 'transactionId', 'connectorId', 'startTime'], inplace=True)\n",
    "    print('Charge events (duplicates are removed)  : {}'.format(df_defa.shape[0]))\n",
    "    return df_defa\n"
   ]
  },
  {
   "cell_type": "code",
   "execution_count": null,
   "id": "ea569d84",
   "metadata": {},
   "outputs": [],
   "source": [
    "def convert_column_types_json(df: pd.DataFrame):\n",
    "    df['start_time'] = pd.to_datetime(df['startTime'], dayfirst=True, unit=\"ms\", utc=True).dt.tz_convert('Europe/Helsinki')\n",
    "    df['end_time'] = pd.to_datetime(df['endTime'], dayfirst=True, unit=\"ms\", utc=True).dt.tz_convert('Europe/Helsinki')\n",
    "    df.sort_values(['start_time'], inplace=True, ascending=True)\n"
   ]
  },
  {
   "cell_type": "code",
   "execution_count": null,
   "id": "50989813",
   "metadata": {},
   "outputs": [],
   "source": [
    "def save_preprocessed_defa_df(df):\n",
    "    file_path: str = os.path.join(preprocessed_folder, defa_file_name_gzip)\n",
    "    df.to_parquet(file_path, compression='gzip')\n",
    "    file_path: str = os.path.join(preprocessed_folder, defa_file_name_csv)\n",
    "    df.to_csv(file_path)\n"
   ]
  },
  {
   "cell_type": "code",
   "execution_count": null,
   "id": "fe87f33b",
   "metadata": {},
   "outputs": [],
   "source": [
    "df_defa: pd.DataFrame = create_defa_dataframe_json()\n",
    "convert_column_types_json(df_defa)\n",
    "save_preprocessed_defa_df(df_defa)\n"
   ]
  },
  {
   "cell_type": "code",
   "execution_count": null,
   "id": "2d82925f",
   "metadata": {},
   "outputs": [],
   "source": [
    "def convert_column_types(df: pd.DataFrame):\n",
    "    df['start_time'] = pd.to_datetime(df['start_time'], dayfirst=True)\n",
    "    df['end_time'] = pd.to_datetime(df['end_time'], dayfirst=True)\n",
    "    df.sort_values(['start_time'], inplace=True, ascending=True)\n"
   ]
  },
  {
   "cell_type": "code",
   "execution_count": null,
   "id": "a205b15e",
   "metadata": {},
   "outputs": [],
   "source": [
    "# df_defa: pd.DataFrame = create_defa_dataframe()\n",
    "# convert_column_types(df_defa)\n",
    "# save_preprocessed_defa_df(df_defa)\n"
   ]
  },
  {
   "cell_type": "code",
   "execution_count": null,
   "id": "02141d4b",
   "metadata": {},
   "outputs": [],
   "source": []
  },
  {
   "cell_type": "code",
   "execution_count": null,
   "id": "927129f1",
   "metadata": {},
   "outputs": [],
   "source": [
    "df_defa.head()\n"
   ]
  },
  {
   "cell_type": "code",
   "execution_count": null,
   "id": "8b1f3e9b",
   "metadata": {},
   "outputs": [],
   "source": [
    "df_defa.tail()\n"
   ]
  },
  {
   "cell_type": "code",
   "execution_count": null,
   "id": "f63e92c9",
   "metadata": {},
   "outputs": [],
   "source": [
    "df_defa.dtypes\n"
   ]
  },
  {
   "cell_type": "code",
   "execution_count": null,
   "id": "ac2bb169",
   "metadata": {},
   "outputs": [],
   "source": [
    "def create_list_of_cahargeing_times(row) -> list:\n",
    "    start_date_and_hour = row['start_time'].strftime('%Y-%m-%d %H:00:00')\n",
    "    end_date_and_hour = row['end_time'].strftime('%Y-%m-%d %H:00:00')\n",
    "    chargeing_time_list = pd.date_range(start_date_and_hour, end_date_and_hour, freq='H')\n",
    "    return chargeing_time_list\n"
   ]
  },
  {
   "cell_type": "code",
   "execution_count": null,
   "id": "e09854bf",
   "metadata": {},
   "outputs": [],
   "source": [
    "df_defa['chargeing_time_list'] = df_defa.apply(lambda row: create_list_of_cahargeing_times(row), axis=1)\n"
   ]
  },
  {
   "cell_type": "code",
   "execution_count": null,
   "id": "7c41178f",
   "metadata": {},
   "outputs": [],
   "source": [
    "# df_defa['chargeing_time_list']\n"
   ]
  },
  {
   "cell_type": "code",
   "execution_count": null,
   "id": "ab32e964",
   "metadata": {},
   "outputs": [],
   "source": []
  },
  {
   "cell_type": "code",
   "execution_count": null,
   "id": "152e337b",
   "metadata": {},
   "outputs": [],
   "source": []
  }
 ],
 "metadata": {
  "kernelspec": {
   "display_name": "Python 3 (ipykernel)",
   "language": "python",
   "name": "python3"
  },
  "language_info": {
   "codemirror_mode": {
    "name": "ipython",
    "version": 3
   },
   "file_extension": ".py",
   "mimetype": "text/x-python",
   "name": "python",
   "nbconvert_exporter": "python",
   "pygments_lexer": "ipython3",
   "version": "3.10.12"
  }
 },
 "nbformat": 4,
 "nbformat_minor": 5
}
